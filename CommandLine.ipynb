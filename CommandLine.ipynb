{
 "cells": [
  {
   "cell_type": "markdown",
   "id": "c0953122-f7c2-44ca-bfbe-eebc78ddbcda",
   "metadata": {
    "tags": []
   },
   "source": [
    "# Outline: Accessing NCBI Resources on the Command Line for Biologists \n",
    "\n",
    "This Jupyter Notebook contains the background and instructions for the hands-on exercises of this workshop. **WILL FINISH POPULATING THIS OUTLINE**\n",
    "\n",
    "* [Introduction](#Introduction)\n",
    "* [Objective 1 - Getting Around on the Command Line](#Objective-1)"
   ]
  },
  {
   "cell_type": "markdown",
   "id": "8a963222-bd81-4b62-91c2-579dab9d09a2",
   "metadata": {
    "tags": []
   },
   "source": [
    "# Introduction"
   ]
  },
  {
   "cell_type": "markdown",
   "id": "e11a95a5-476c-446e-bb5a-c1d6a65c8a1f",
   "metadata": {},
   "source": [
    "**Why command line? What is the benefit to you as a biologist?** \n",
    "* More direct interface between you and the computer - more streamlined, less tabs and windows open etc. \n",
    "* Interacting with remote/cloud computer\n",
    "* Many bioinformatics tools are only available, or have more full options, in a CLI \n",
    "* Reusability of your work - can build up to writing scripts that can automate things, or retrieve different things with small modifications \n",
    "* More opportunities in general for batch processing and automation \n",
    "\n",
    "**Examples of a few GENERAL tasks that would benefit a biologist**\n",
    "* Download sequences listed by name in a text file \n",
    "* Run the same filtering pipeline on 10 different Fastq files \n",
    "* Run that same filtering pipeline AGAIN after realizing you needed to use a higher quality score cutoff \n",
    "\n",
    "**Other Notes:**\n",
    "* Reminder that to do all of this, you need to be comfortable with the command line basics first\n",
    "* Basics of what the EDirect toolkit and what it is used for - your access point to interconnected NCBI databases - a great example of command line functionality *Not sure if I should even go into EDirect vs. EUtilities and what EDirect is doing in the background (creating structured URL)*"
   ]
  },
  {
   "cell_type": "markdown",
   "id": "91017cc9-b194-46ad-b5d2-2a3df35444f1",
   "metadata": {
    "tags": []
   },
   "source": [
    "## About Jupyter Notebooks and this workshop  \n",
    "This workshop uses a Jupyter Notebook, a platform that allows you to run code from individual cells in a web page and display the results of the command.  \n",
    "\n",
    "In this notebook the language of the code cells is simply the Unix bash shell that you can use to run command-line tools (MagicBLAST, blastn, efetch, etc.) or invoke any standard Unix programs or utilities (ls, grep, head, tail, sort, cut etc.)\n",
    "\n",
    "In some cases the commands will create files on your working directory on the server. When that happens a new file will appear in the list on the left-hand side of your notebook.  \n",
    "\n",
    "To run code in a cell you can select the cell and  use the \"Run\" button at the top of the notebook, or you can use hold the shift key down and press the enter key (shift+enter) to run the cell.\n",
    "\n",
    "**Example:** Run the following cell. This will create file on your working directory, list the contents of your directory, and list the contents of your file."
   ]
  },
  {
   "cell_type": "code",
   "execution_count": null,
   "id": "b43f8936-6b87-480a-a155-35b33e41a531",
   "metadata": {
    "tags": []
   },
   "outputs": [],
   "source": [
    "# Creating a file with Unix\n",
    "echo \"This is my file\""
   ]
  },
  {
   "cell_type": "markdown",
   "id": "fb8aa774-ea2c-44b8-acf6-1cc924f328c9",
   "metadata": {
    "tags": []
   },
   "source": [
    "The output appears immediately below the cell. Notice that the new file appears in the list on the left-hand side of your browser. Also, the bracketed space to the left of the cell now contains the number 1 \\[1]. The number is the number of times you have run cells in the notebook. When the cell is running the brackets will show an asterisk \\[*].\n",
    "\n",
    "**Important tip:** As you go through the notebook, in order to run, some cells require that you have run the cells before them. If you missed a previous cell, you can use the \"Run\" menu to \"Run All Above the Selected Cell\"\n",
    "\n",
    "**If you get lost**: Click the outline icon on the left sidebar (looks like three bullet points) to get an entire interactive outline of the course. "
   ]
  },
  {
   "cell_type": "markdown",
   "id": "a2925de1-cd86-4714-acfa-94fb2b3b3c13",
   "metadata": {},
   "source": [
    "### Software installed on this notebook\n",
    "The following bioinformatics tools are installed on this server for use during the workshop, and will need to be installed locally if you want to re-create these analyses on your own computer. \n",
    "\n",
    "- **EDirect**: a suite of scripts for accessing NCBI sequence and literature data through the E-Utilities API. [More info](https://www.ncbi.nlm.nih.gov/books/NBK179288/)\n"
   ]
  },
  {
   "cell_type": "markdown",
   "id": "4f34d0d9-77b3-461b-aba4-fcefc33982e3",
   "metadata": {},
   "source": [
    "## Our Case Studies"
   ]
  },
  {
   "cell_type": "markdown",
   "id": "8a841924-908b-4da5-8746-bfd1483960ab",
   "metadata": {},
   "source": [
    "**You are a researcher starting in a new lab working on a Disease/Phenotype: Acute Intermittent Porphyria** \n",
    "\n",
    "* Download citations about this disease from PubMed \n",
    "* Identify most relevant paper(s) to figure out what gene(s) are involved \n",
    "* Find out more about this gene by looking at its entry in the Genes database \n",
    "* Look at spread of non-human animals that have related Gene sequences - your lab is interested in moving away from a mouse model\n",
    "* Download relevant sequence data to prepare for BLAST search"
   ]
  },
  {
   "cell_type": "markdown",
   "id": "dbe1c9a9-13af-4456-bfbc-8b55d4bed0a3",
   "metadata": {},
   "source": [
    "# Objective 1 - Set up a workspace using the command line <a class=\"anchor\" id=\"Objective-1\"></a>"
   ]
  },
  {
   "cell_type": "markdown",
   "id": "ed60bab4-8b2c-4b3f-ac45-7d1f412f9b27",
   "metadata": {},
   "source": [
    "**End Goal**: A main project directory with appropriately named sub-directories for different types of data (citations/publications, nucleotide, protein, genomes)\n",
    "\n",
    "**Concepts covered:**\n",
    "\n",
    "* \"Anatomy\" of a Bash command with, and without a single argument\n",
    "* Basics of hierarchical Linux directory structure (walk through diagram of structure side by side with actual command line navigation - moving \"up\" and \"down\") \n",
    "* Navigating/investigating this around this structure (pwd, ls, cd) \n",
    "* Modifying this directory structure by: Creating subdirectories, renaming a directory, moving an existing file into a directory you created (mkdir, mv, cp) "
   ]
  },
  {
   "cell_type": "markdown",
   "id": "7e4e6643-c919-4f7c-8996-bb4454f0489a",
   "metadata": {
    "tags": []
   },
   "source": [
    "## So, what IS the command line? And why do we use it? "
   ]
  },
  {
   "cell_type": "markdown",
   "id": "ee1d0c31-b062-40e1-8bb1-561f43613f2f",
   "metadata": {},
   "source": [
    "## Running Commands: Program Name and Parameters"
   ]
  },
  {
   "cell_type": "markdown",
   "id": "30b07ce2-d727-49f0-bff9-e6e3153dd1c8",
   "metadata": {},
   "source": [
    "**Commands I will demo during this section:**\n",
    "* `pwd`\n",
    "*  `ls` vs. `ls -a` - commands that can be run with or without arguments \n",
    "*  `echo` (uh oh, this is missing an argument! ) \n",
    "* `echo \"this is a message\"` this is better! "
   ]
  },
  {
   "cell_type": "code",
   "execution_count": null,
   "id": "6fcbc3ca-690f-4987-90a3-094701d30435",
   "metadata": {
    "tags": []
   },
   "outputs": [],
   "source": [
    "ls --help"
   ]
  },
  {
   "cell_type": "markdown",
   "id": "0841523d-1dd2-4aba-8f50-10c88105169e",
   "metadata": {},
   "source": [
    "## Interacting with Unix directory structure\n",
    "\n",
    "**Need to create custom directory structure diagram labeled with our JupyterHub directory names**"
   ]
  },
  {
   "cell_type": "markdown",
   "id": "c117dce8-6697-4d9d-8ebc-64e5dad5f022",
   "metadata": {},
   "source": [
    "**Commands I will demo:**\n",
    "* You are Here:  `pwd`\n",
    "* What's in a (directory) name/path?\n",
    "* Checking out our surroundings: `ls` for within a directory, compared with `ls .` and `ls ..` \n",
    "* Moving around in our surroundings: `cd` command and its arguments, practicing/predicting what you get if you run `ls` after moving to a different directory.\n",
    "* Creating your own directories to store data: `mkdir`. "
   ]
  },
  {
   "cell_type": "markdown",
   "id": "2611ab8a-08e4-423a-95c8-1242e06053e7",
   "metadata": {
    "tags": []
   },
   "source": [
    "## Interacting with files"
   ]
  },
  {
   "cell_type": "markdown",
   "id": "62661629-45bb-4eab-837a-43b9c234e201",
   "metadata": {},
   "source": [
    "**Commands I will demo during this section:**\n",
    "* `mv` can be used to literally move a file OR rename a file \n",
    "* `cp`\n",
    "* `less`\n",
    "* `head`"
   ]
  },
  {
   "cell_type": "markdown",
   "id": "0cdd780c-eeea-451f-863f-53efd3f791b2",
   "metadata": {},
   "source": [
    "**Now that you are familiar with the command line, run the following command to finish the setup we need for the rest of the workshop**"
   ]
  },
  {
   "cell_type": "code",
   "execution_count": null,
   "id": "c12908d4-9039-4a1b-aabe-ac66693105a8",
   "metadata": {
    "tags": []
   },
   "outputs": [],
   "source": [
    "source /srv/scratch/.bash_profile \n",
    "# echo $NCBI_API_KEY #Don't worry, you won't see anything happen. "
   ]
  },
  {
   "cell_type": "markdown",
   "id": "b1b3cd72-78d5-4b95-989e-ae3ea07020a7",
   "metadata": {
    "tags": []
   },
   "source": [
    "# Objective 2: Use EDirect commands to identify genes associated with AIP and identify suitable animal models for the disease"
   ]
  },
  {
   "cell_type": "markdown",
   "id": "d80a2d90-bba9-4d21-bd15-4f63f4107413",
   "metadata": {},
   "source": [
    "**Concepts covered:** \n",
    "\n",
    "* Basic esearch command (program name, database, query)\n",
    "* The result structure they return (focusing on number of results) \n",
    "* Making queries clearer/results more specific by adding bracketed field names\n",
    "* Different databases have different fields - how to use \"einfo\" to find out more about what databases exist and what type of info can be found in each of them  \n",
    "* Piping data into efetch commands to get different types of data returned - note that different databases have different structures that can be returned \n",
    "* The idea that the EDirect toolkit allows for flexible exploration - we could have gotten to our particular Gene ID \"answer\" in a number of ways "
   ]
  },
  {
   "cell_type": "markdown",
   "id": "a3002cfe-6600-460a-bf01-0009744f8176",
   "metadata": {},
   "source": [
    "## Introduction to the EDirect suite"
   ]
  },
  {
   "cell_type": "markdown",
   "id": "315de89f-856f-45e8-bbc3-d302e53a76c7",
   "metadata": {
    "tags": []
   },
   "source": [
    "## Using `einfo` to find out about databases\n",
    "\n",
    "The `einfo` command is very useful for learning about available databases, the searchable fields in each database, and links between the various NCBI databases. When run with the `dbs` (databases) flag, `einfo` produces a list of available databases.  "
   ]
  },
  {
   "cell_type": "code",
   "execution_count": null,
   "id": "e4f14d40-9a31-4cca-96e9-b357956b6468",
   "metadata": {
    "tags": []
   },
   "outputs": [],
   "source": [
    "einfo -dbs "
   ]
  },
  {
   "cell_type": "markdown",
   "id": "0a11e515-d760-42b5-a7cb-0d1f6b382148",
   "metadata": {},
   "source": [
    "Okay, that is a long list of databases! Sometimes, we want to store a list like this in a text file so that we can examine it again without running the command again. We can use the `>` symbol to direct the output of the `einfo` command into a text file called `ncbi_dbs.txt` that lives in our current directory. "
   ]
  },
  {
   "cell_type": "code",
   "execution_count": null,
   "id": "cdde710e-bece-4b38-8efd-001b959ce92f",
   "metadata": {
    "tags": []
   },
   "outputs": [],
   "source": [
    "einfo -dbs > ncbi_dbs.txt"
   ]
  },
  {
   "cell_type": "markdown",
   "id": "aba12adf-f22b-499a-baa8-4de73bf99c22",
   "metadata": {},
   "source": [
    "We can go to our files pane (click on folder icon), and double click `ncbi_dbs.txt` to open that list in another tab for future reference! We can look at the list and guess that `pubmed` might be a good option for looking at publications. To check, we can run `einfo` again, this time specifying `pubmed`. "
   ]
  },
  {
   "cell_type": "code",
   "execution_count": null,
   "id": "a14ddfd3-4863-4ecb-a389-8f58c29ce85b",
   "metadata": {
    "tags": []
   },
   "outputs": [],
   "source": [
    "einfo -db pubmed"
   ]
  },
  {
   "cell_type": "markdown",
   "id": "6bdf203d-65db-4c2d-9c27-f193e0f2b186",
   "metadata": {},
   "source": [
    "This output (unless you are already fluent in XML) is a little bit hard to read. Lets add the `-fields` flag to get a human-readable list of the searchable fields in `pubmed`, and also direct this list to a file. This will come in handy soon as we refine our searches. Take a look! "
   ]
  },
  {
   "cell_type": "code",
   "execution_count": null,
   "id": "9aa67c15-51db-43e8-879e-e73105425a23",
   "metadata": {
    "tags": []
   },
   "outputs": [],
   "source": [
    "einfo -db pubmed -fields > pubmed_fields.txt"
   ]
  },
  {
   "cell_type": "code",
   "execution_count": null,
   "id": "44dc4854-070c-4143-8b9d-cbca4c855f3b",
   "metadata": {
    "tags": []
   },
   "outputs": [],
   "source": [
    "# Briefly compare with the fields in a sequence database, then clear the output\n",
    "einfo -db nuccore -fields"
   ]
  },
  {
   "cell_type": "markdown",
   "id": "7c2b3cd9-f833-4b72-8148-4d68f72400c7",
   "metadata": {},
   "source": [
    "## Using `esearch` and `efetch` to find relevant results in databases. "
   ]
  },
  {
   "cell_type": "markdown",
   "id": "374cf5b3-6c39-4c5b-8ac0-b35d1e8e46f5",
   "metadata": {},
   "source": [
    "As the name might suggest, we have `esearch` allows us to perform an Entrez search of a database using a query. For our purposes, a basic `esearch` command will have a database specified using `-db` (remember to look at our list!) and something that we are searching for inside of that database, specified using `-query`. "
   ]
  },
  {
   "cell_type": "code",
   "execution_count": null,
   "id": "600cc067-f468-4549-a9f6-2d7db9f9aedc",
   "metadata": {
    "tags": []
   },
   "outputs": [],
   "source": [
    "# Demonstrate that running `esearch` without specifying a value for one or both of these will return errors\n",
    "esearch -db pubmed\n",
    "esearch -query \"aip\" "
   ]
  },
  {
   "cell_type": "markdown",
   "id": "ab181089-cf17-497c-89b7-f6f5c860f5fa",
   "metadata": {},
   "source": [
    "First, lets try the full name of the disease as a query. "
   ]
  },
  {
   "cell_type": "code",
   "execution_count": null,
   "id": "5c059b0f-6614-448a-a6bd-c672165b20f0",
   "metadata": {},
   "outputs": [],
   "source": [
    "# Looking for a disease of interest to us...  \n",
    "esearch -db pubmed -query \"acute intermittent porphyria\""
   ]
  },
  {
   "cell_type": "markdown",
   "id": "535fd253-6b92-43a6-aa89-ba8f743a8545",
   "metadata": {},
   "source": [
    "This results structure tells us a number of useful things, and also stores this information in way that that can feed into downstream programs. First, it reminds us what database we just searched in, and stores this info for use in other programs. We also may want to look at the `Count` value, which counts the number of records returned by the search. \n",
    "\n",
    "As March 2023, there are **2353 results**, too many papers for us to read, and probably too many for us to even download. Note also that this the `esearch` step in and of itself does NOT give us any info about the contents of the results. \n",
    "\n",
    "### Refining our search using database fields\n",
    "\n",
    "If we want to get a more manageable number of results, one way to do that is to modify the query with an applicable **field** from the PubMed database. Take a look back at our `pubmed_fields.txt` file to get an idea of their names and abbreviations. **Let's modify our query to look only at papers published in 2020:** "
   ]
  },
  {
   "cell_type": "code",
   "execution_count": null,
   "id": "76e5dffb-d1f0-4a6e-a723-74777b6091a0",
   "metadata": {
    "tags": []
   },
   "outputs": [],
   "source": [
    "esearch -db pubmed -query \"acute intermittent porphyria AND 2020 [PDAT]\""
   ]
  },
  {
   "cell_type": "markdown",
   "id": "5020e74d-0c6e-4839-abca-8dc47a62a689",
   "metadata": {},
   "source": [
    "This time we see many fewer results! What did we modify in our query? \n",
    "* `AND`: This tells **esearch** we are qualifying the first half of the query, which is our disease name, with another condition. In this case, a publication year. \n",
    "* `2020`: Our chosen value for specifying publication date \n",
    "* `[PDAT]`: This tells **esearch** which PubMed database field `2020` should be searched in for. Note that this term matches exactly what we got from `einfo`, and is placed inside of brackets. \n",
    "\n",
    "You can apply this same logic to choosing a specific journal. Let's assume that since we are interested in the genetic basis of AIP, the journal **Genes** might be a good option: "
   ]
  },
  {
   "cell_type": "code",
   "execution_count": null,
   "id": "f12ead9a-5798-4c86-9ea7-7401859af5db",
   "metadata": {},
   "outputs": [],
   "source": [
    "esearch -db pubmed -query \"acute intermittent porphyria AND Genes [JOUR]\""
   ]
  },
  {
   "cell_type": "markdown",
   "id": "7655f58c-d01e-4d75-a5a7-9a354bbbc5d8",
   "metadata": {
    "tags": []
   },
   "source": [
    "As of March 2023, this returned just a single result, much more manageable. We can actually get the same result if we specify BOTH a journal and year: "
   ]
  },
  {
   "cell_type": "code",
   "execution_count": null,
   "id": "f0510203-52cd-44ac-bf40-6dac33073f03",
   "metadata": {
    "tags": []
   },
   "outputs": [],
   "source": [
    "esearch -db pubmed -query \"acute intermittent porphyria AND Genes [JOUR] AND 2020 [PDAT]\""
   ]
  },
  {
   "cell_type": "markdown",
   "id": "a447cd5b-66c3-4c5d-a016-e48894287efd",
   "metadata": {
    "tags": []
   },
   "source": [
    "### Sending `esearch` results to `efetch`\n",
    "\n",
    "Now that we have narrowed our search down to what looks like just one publication, we can retrieve more information about it. We do so by adding in a second command, `efetch` that can receive that result structure directly from `esearch` and return information about that reuslt in a format of our choice. We can use one short command to see what formats `efetch` can return for us for each database: "
   ]
  },
  {
   "cell_type": "code",
   "execution_count": null,
   "id": "87e978ee-12b5-4af2-bc83-918119e267f4",
   "metadata": {
    "tags": []
   },
   "outputs": [],
   "source": [
    "efetch -help"
   ]
  },
  {
   "cell_type": "code",
   "execution_count": null,
   "id": "9dd1c9f2-00fe-49be-88af-96e41550d444",
   "metadata": {
    "tags": []
   },
   "outputs": [],
   "source": [
    "esearch -db pubmed -query \"acute intermittent porphyria AND Genes [JOUR]\" | efetch -format abstract"
   ]
  },
  {
   "cell_type": "code",
   "execution_count": null,
   "id": "72487d3a-92e2-46b8-b010-c44b7b3aac45",
   "metadata": {
    "tags": []
   },
   "outputs": [],
   "source": [
    "# You can also direct this to a file to save it for later \n",
    "esearch -db pubmed -query \"acute intermittent porphyria AND Genes [JOUR]\" | efetch -format abstract > AIP_genes.txt"
   ]
  },
  {
   "cell_type": "code",
   "execution_count": null,
   "id": "737a4536-e29f-4bc8-a4d7-94984705972e",
   "metadata": {
    "tags": []
   },
   "outputs": [],
   "source": [
    "head AIP_genes.txt\n",
    "# mv AIP_genes.txt PubMed/"
   ]
  },
  {
   "cell_type": "code",
   "execution_count": null,
   "id": "6db62b56-f749-434b-b080-7f62d553eb3f",
   "metadata": {
    "tags": []
   },
   "outputs": [],
   "source": [
    "#Medline format, ready for your citation manager\n",
    "esearch -db pubmed -query \"acute intermittent porphyria AND Genes [JOUR]\" | efetch -format medline"
   ]
  },
  {
   "cell_type": "code",
   "execution_count": null,
   "id": "0bfdcba8-080b-4a33-8c39-4ad1329044c9",
   "metadata": {
    "tags": []
   },
   "outputs": [],
   "source": [
    "# And finally, if you just want PubMed ID to pipe into something else\n",
    "esearch -db pubmed -query \"acute intermittent porphyria AND Genes [JOUR]\" | efetch -format uilist"
   ]
  },
  {
   "cell_type": "code",
   "execution_count": null,
   "id": "dd648616-9aab-457f-b7e4-cdab80438abb",
   "metadata": {
    "tags": []
   },
   "outputs": [],
   "source": [
    "#esearch -db pubmed -query \"acute intermittent porphyria AND Genes [JOUR]\" | elink -target gene"
   ]
  },
  {
   "cell_type": "markdown",
   "id": "8e8abeec-a8d2-499b-bd2d-09974b8327bd",
   "metadata": {},
   "source": [
    "### Using the NCBI `Gene` Database\n",
    "\n",
    "By reading over just this one abstract, we learn that this form of porphyria is related to decreased activity of hepatic hydroxymethylbilane synthase (HMBS), the third enzyme in the heme biosynthetic pathway. Now we know what our target gene is, and can search for it in any number of NCBI databases. "
   ]
  },
  {
   "cell_type": "code",
   "execution_count": null,
   "id": "7640b85f-bd05-4670-8dda-d3a746a45e20",
   "metadata": {
    "tags": []
   },
   "outputs": [],
   "source": [
    "# esearch -db pubmed -query \"acute intermittent porphyria\" | elink -target gene "
   ]
  },
  {
   "cell_type": "code",
   "execution_count": null,
   "id": "f93ebbbd-01ec-4e18-9c01-bd2e5b27ba41",
   "metadata": {
    "tags": []
   },
   "outputs": [],
   "source": [
    "# search -db pubmed -query \"acute intermittent porphyria AND Genes [JOUR]\" | elink -target gene | efetch"
   ]
  },
  {
   "cell_type": "code",
   "execution_count": null,
   "id": "eeddbc86-e089-4d32-a094-74073f84d199",
   "metadata": {},
   "outputs": [],
   "source": [
    "# Seems obvious to see what \"Gene\" has to say about a gene...\n",
    "einfo -db gene -fields"
   ]
  },
  {
   "cell_type": "code",
   "execution_count": null,
   "id": "389cf4b2-d847-46cd-be21-776e9719ab6b",
   "metadata": {
    "tags": []
   },
   "outputs": [],
   "source": [
    "esearch -db gene -query \"HMBS\" "
   ]
  },
  {
   "cell_type": "code",
   "execution_count": null,
   "id": "6a10af29-19fa-4b7d-9490-d9df08f90bab",
   "metadata": {
    "tags": []
   },
   "outputs": [],
   "source": [
    "#Specify that HMBS is actually the official gene symbol, not just a set of characters to search for \n",
    "esearch -db gene -query \"HMBS[sym]\""
   ]
  },
  {
   "cell_type": "markdown",
   "id": "bd140b60-4159-4a9e-9b4f-4e583718efe3",
   "metadata": {},
   "source": [
    "425 results is a number we could possibly put into a spreadsheet and take a look at, so lets go ahead and do that, using `efetch` and specifying a tabular output format. Tabular output format can be really nice because this can now be imported into your favorite statistics software, such as Excel or R. "
   ]
  },
  {
   "cell_type": "code",
   "execution_count": null,
   "id": "4415a251-8563-48dd-af95-fbac717e4a44",
   "metadata": {
    "tags": []
   },
   "outputs": [],
   "source": [
    "esearch -db gene -query \"HMBS[sym]\" | efetch -format tabular > hmbs_tabular.tsv"
   ]
  },
  {
   "cell_type": "code",
   "execution_count": null,
   "id": "7a8d7214-c9e3-4e12-a38a-cc58002302b3",
   "metadata": {
    "tags": []
   },
   "outputs": [],
   "source": [
    "# How many results did we get? This should match what we got from esearch, plus a header. The -l flag specifies that we want to count units by line. \n",
    "wc -l hmbs_tabular.tsv"
   ]
  },
  {
   "cell_type": "markdown",
   "id": "faa8d909-8008-46db-bf1c-5e6e5820ecfe",
   "metadata": {},
   "source": [
    "So how can we interpret the results in this table? They represent all the results of searching the **Gene** Database using the string **HMBS** as a **Gene Symbol**.  We can explore the tab-delimited file a bit using the JupyterHub file viewer. \n",
    "\n",
    "Here is some information we can learn from browsing the table: \n",
    "* The range of organisms that have a gene known as HMBS, and their TaxIDs\n",
    "* Acccession numbers that will help us to find the actual gene sequences\n",
    "* Other names and aliases for the genes \n",
    "* That HMBS is on human chromosome 1, and rat chromosome 8\n",
    "\n",
    "If we want more information on just that top result, the well-annotated human sequence, we can look specifically for that Gene ID and produce a **gene table** output. \n"
   ]
  },
  {
   "cell_type": "code",
   "execution_count": null,
   "id": "98702f30-e15a-4ce0-a314-18fb532204f8",
   "metadata": {
    "tags": []
   },
   "outputs": [],
   "source": [
    "esearch -db gene -query \"3145[UID]\" | efetch -format gene_table > hmbs_gene_table.txt"
   ]
  },
  {
   "cell_type": "code",
   "execution_count": null,
   "id": "5bda3e6c-305e-4f43-ad82-f94079133d78",
   "metadata": {
    "tags": []
   },
   "outputs": [],
   "source": [
    "We could have also found the same human HMBS sequence by starting with the disease name: "
   ]
  },
  {
   "cell_type": "code",
   "execution_count": null,
   "id": "5d749a3f-75c6-49df-92ff-20e9b073d622",
   "metadata": {
    "tags": []
   },
   "outputs": [],
   "source": [
    "esearch -db gene -query \"acute intermittent porphyria\""
   ]
  },
  {
   "cell_type": "code",
   "execution_count": null,
   "id": "980f81e0-058d-4262-908c-17615736cb39",
   "metadata": {
    "tags": []
   },
   "outputs": [],
   "source": [
    "esearch -db gene -query \"acute intermittent porphyria\" | efetch -format tabular > aip_genes.tsv"
   ]
  },
  {
   "cell_type": "markdown",
   "id": "1d2b23fb-4dcd-4053-b27e-fba89d646ce5",
   "metadata": {
    "tags": []
   },
   "source": [
    "## Searching a sequence database\n",
    "\n",
    "So, now that we have identified the exact ID and name of a gene, it is easy to download the actual sequence for the gene in a format of our choice. First, we can look back at our list of NCBI databases and see if one of them might be appropriate. Maybe something like **nuccore** or **protein**! We can start by double checking that **nuccore** has our desired output format - a FASTA file. "
   ]
  },
  {
   "cell_type": "code",
   "execution_count": null,
   "id": "38271d95-89d6-44bd-ad34-9bf999aac22e",
   "metadata": {
    "tags": []
   },
   "outputs": [],
   "source": [
    "efetch -help"
   ]
  },
  {
   "cell_type": "markdown",
   "id": "6966de17-7293-4ee8-83ed-4e9397205f1f",
   "metadata": {},
   "source": [
    "This time, because we have real sequence accession numbers for mRNA sequences in our Gene Table, we can use `efetch` directly using the accession number of the first mRNA variant listed as the `id` parameter: "
   ]
  },
  {
   "cell_type": "code",
   "execution_count": null,
   "id": "f58b365c-c0bd-4f5e-b0f9-88c059af1119",
   "metadata": {
    "tags": []
   },
   "outputs": [],
   "source": [
    "efetch -db nuccore -id XM_005271531.2 -format fasta"
   ]
  },
  {
   "cell_type": "markdown",
   "id": "9cbbf249-de1e-4594-8de7-21b1b78a33aa",
   "metadata": {},
   "source": [
    "# Objective 3: Use `elink` to more exhaustive search for genes and proteins "
   ]
  },
  {
   "cell_type": "markdown",
   "id": "a6e23d85-4a54-405b-9c56-fd78471456f2",
   "metadata": {},
   "source": [
    "**Concepts covered:** \n",
    "\n",
    "* elink to move around between and within databases \n",
    "* elink \"related\" to find the other names of genes in the pathway \n",
    "* elink with targeted database to get actual sequences for these genes \n",
    "* efilter to restrict linked results to a reasonable subset - probably filtering by our target organism (cat) \n",
    "* Overview of Genome/Assembly reports and how to pick a relevant assembly \n",
    "* Setting up directories for BLAST but the actual analysis is outside the scope of this course (Peter and Wayne might cover?) "
   ]
  },
  {
   "cell_type": "markdown",
   "id": "0fe44cc5-fb18-4675-b2a2-c230657514e2",
   "metadata": {
    "tags": []
   },
   "source": [
    "## Finding connected records in another database "
   ]
  },
  {
   "cell_type": "markdown",
   "id": "d24004e5-b08e-426b-b4ff-084125aedaef",
   "metadata": {},
   "source": [
    "What if we had wanted to ALL of the FASTA-formatted sequences associated with the Gene ID 3145 (Human HMBS), to serve as a query file for a BLAST search against a different organism's genome? The problem is that FASTA files are not direct output from the Genes database itself. "
   ]
  },
  {
   "cell_type": "code",
   "execution_count": null,
   "id": "4b638068-abf8-4a32-aa55-c93d4eeeddb0",
   "metadata": {
    "tags": []
   },
   "outputs": [],
   "source": [
    "esearch -db gene -query \"acute intermittent porphyria\" | efetch -format fasta # Does not give the expected result "
   ]
  },
  {
   "cell_type": "markdown",
   "id": "1871a526-0567-4cc1-adf9-7eb42cacd303",
   "metadata": {
    "tags": []
   },
   "source": [
    "Luckily, we have a command called `elink` that has two major capabilities: \n",
    "* Finding linked records in a different, target, database\n",
    "* Otherwise connected records in the same database \n",
    "\n",
    "We will go through examples of both! First, take a look at the help docs for `elink`: "
   ]
  },
  {
   "cell_type": "code",
   "execution_count": null,
   "id": "3fcf5585-4335-453f-a01a-4e3c8cbd9459",
   "metadata": {
    "tags": []
   },
   "outputs": [],
   "source": [
    "elink -help"
   ]
  },
  {
   "cell_type": "markdown",
   "id": "ee5b3b85-6148-49a0-bc0a-6c4a4980513f",
   "metadata": {
    "tags": []
   },
   "source": [
    "You can also see what type of links the **Gene** database has to other NCBI databases: "
   ]
  },
  {
   "cell_type": "code",
   "execution_count": null,
   "id": "7756a0ef-e875-4f55-8a30-ad6ca92317be",
   "metadata": {
    "tags": []
   },
   "outputs": [],
   "source": [
    "einfo -db gene -links"
   ]
  },
  {
   "cell_type": "markdown",
   "id": "9c405854-882e-45e1-b33d-0827675356d9",
   "metadata": {},
   "source": [
    "**So, let's build a query that does the following:** \n",
    "\n",
    "1. Queries **Gene** for 3145 as a UID \n",
    "2. Passes that result object to `elink`, specifying that we want to look in a different database\n",
    "3. Specifies the target second database\n",
    "4. Specifying the format we want to get out of the command\n",
    "5. Saves the results in a file instead of printing them out to screen\n",
    "\n",
    "We can accomplish steps 1-3 just by adding a pipe to `elink` before our call to `efetch`: "
   ]
  },
  {
   "cell_type": "code",
   "execution_count": null,
   "id": "ac9c1af1-240c-463f-964f-69d44288bff1",
   "metadata": {
    "tags": []
   },
   "outputs": [],
   "source": [
    "esearch -db gene -query \"3145[UID]\" | elink -target nuccore"
   ]
  },
  {
   "cell_type": "markdown",
   "id": "e6bd3a64-0802-49d5-a8d2-ccb58abb4951",
   "metadata": {},
   "source": [
    "Then, we can add a third step of passing this info to efetch, which will actually retrieve the FASTA formatted file! We definitely want to direct the output to a file for storage..."
   ]
  },
  {
   "cell_type": "code",
   "execution_count": null,
   "id": "49423bc1-d3ec-4d12-8bdb-5b956432198e",
   "metadata": {
    "tags": []
   },
   "outputs": [],
   "source": [
    "esearch -db gene -query \"3145[UID]\" | elink -target nuccore | efetch -format fasta > nuccore_3145.fasta #This may take a moment"
   ]
  },
  {
   "cell_type": "markdown",
   "id": "a56c9353-8499-491b-b78a-26e86e992c8e",
   "metadata": {},
   "source": [
    "We can quickly double check that this has the contents and format we expect using the **head** command: "
   ]
  },
  {
   "cell_type": "code",
   "execution_count": null,
   "id": "732dc90d-5fdf-46d9-b4c5-ba4a0a39b77e",
   "metadata": {
    "tags": []
   },
   "outputs": [],
   "source": [
    "head -10 nuccore_3145.fasta"
   ]
  },
  {
   "cell_type": "markdown",
   "id": "4cb72f60-8204-48d7-814e-ecdc93c324d2",
   "metadata": {},
   "source": [
    "Getting back to one of your original research questions about model organism choice - Another use case of linking to another NCBI DB might be to generate a list of species in the with an HMBS gene. We can start with our original query for the HMBS Gene symbol:"
   ]
  },
  {
   "cell_type": "code",
   "execution_count": null,
   "id": "6cf45537-e621-4635-8ce7-39411bf2f04b",
   "metadata": {
    "tags": []
   },
   "outputs": [],
   "source": [
    "# esearch -db gene -query \"HMBS[sym]\" | "
   ]
  },
  {
   "cell_type": "markdown",
   "id": "7ab37186-2243-4ce4-a9ad-9cfaf37faea5",
   "metadata": {
    "tags": []
   },
   "source": [
    "# Objective 4: Combine and modify commands from above examples to create re-usable tools"
   ]
  },
  {
   "cell_type": "markdown",
   "id": "e675923e-0087-4259-9c09-80e8fb56617f",
   "metadata": {},
   "source": [
    "**Learning outcome**: Identify parameters you could modify to make this stuff super relevant for your own research! \n",
    "\n",
    "Let's say that you did this analysis a year ago - how can we download sequences only from the past year? Or from a different organism if the focus of your research changes to a new animal model? \n",
    "\n",
    "**Concepts covered:** \n",
    "* Linux/unix history commands and saving commands in a text file \n",
    "* Opening a text file to edit a parameter in a command - just use the within-JupyterHub text editor for now \n",
    "* Running a line of code from a text file: you've written your first shell script! "
   ]
  }
 ],
 "metadata": {
  "kernelspec": {
   "display_name": "Bash",
   "language": "bash",
   "name": "bash"
  },
  "language_info": {
   "codemirror_mode": "shell",
   "file_extension": ".sh",
   "mimetype": "text/x-sh",
   "name": "bash"
  },
  "toc-autonumbering": false,
  "toc-showcode": false
 },
 "nbformat": 4,
 "nbformat_minor": 5
}
