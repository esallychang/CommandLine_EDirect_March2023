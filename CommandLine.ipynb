{
 "cells": [
  {
   "cell_type": "markdown",
   "id": "c0953122-f7c2-44ca-bfbe-eebc78ddbcda",
   "metadata": {
    "tags": []
   },
   "source": [
    "# Outline: Accessing NCBI Resources on the Command Line for Biologists \n",
    "\n",
    "This Jupyter Notebook contains the background and instructions for the hands-on exercises of this workshop:\n",
    "\n",
    "* [Introduction](#Introduction)\n",
    "* [Objective 1 - Getting Around on the Command Line](#Objective-1)"
   ]
  },
  {
   "cell_type": "markdown",
   "id": "8a963222-bd81-4b62-91c2-579dab9d09a2",
   "metadata": {
    "tags": []
   },
   "source": [
    "# Introduction"
   ]
  },
  {
   "cell_type": "markdown",
   "id": "91017cc9-b194-46ad-b5d2-2a3df35444f1",
   "metadata": {
    "tags": []
   },
   "source": [
    "## About Jupyter Notebooks and this workshop  \n",
    "This workshop uses a Jupyter Notebook, a platform that allows you to run code from individual cells in a web page and display the results of the command.  \n",
    "\n",
    "In this notebook the language of the code cells is simply the Unix bash shell that you can use to run command-line tools (MagicBLAST, blastn, efetch, etc.) or invoke any standard Unix programs or utilities (ls, grep, head, tail, sort, cut etc.)\n",
    "\n",
    "In some cases the commands will create files on your working directory on the server. When that happens a new file will appear in the list on the left-hand side of your notebook.  \n",
    "\n",
    "To run code in a cell you can select the cell and  use the \"Run\" button at the top of the notebook, or you can use hold the shift key down and press the enter key (shift+enter) to run the cell.\n",
    "\n",
    "**Example:** Run the following cell. This will create file on your working directory, list the contents of your directory, and list the contents of your file."
   ]
  },
  {
   "cell_type": "code",
   "execution_count": null,
   "id": "b43f8936-6b87-480a-a155-35b33e41a531",
   "metadata": {
    "tags": []
   },
   "outputs": [],
   "source": [
    "# Creating a file with Unix\n",
    "echo \"This is my file\""
   ]
  },
  {
   "cell_type": "markdown",
   "id": "fb8aa774-ea2c-44b8-acf6-1cc924f328c9",
   "metadata": {
    "tags": []
   },
   "source": [
    "The output appears immediately below the cell. Notice that the new file appears in the list on the left-hand side of your browser. Also, the bracketed space to the left of the cell now contains the number 1 \\[1]. The number is the number of times you have run cells in the notebook. When the cell is running the brackets will show an asterisk \\[*].\n",
    "\n",
    "**Important tip:** As you go through the notebook, in order to run, some cells require that you have run the cells before them. If you missed a previous cell, you can use the \"Run\" menu to \"Run All Above the Selected Cell\"\n",
    "\n",
    "**If you get lost**: Click the outline icon on the left sidebar (looks like three bullet points) to get an entire interactive outline of the course. "
   ]
  },
  {
   "cell_type": "markdown",
   "id": "a2925de1-cd86-4714-acfa-94fb2b3b3c13",
   "metadata": {},
   "source": [
    "## Sofware installed on this notebook\n",
    "The following bioinformatics tools are installed on this server for use during the workshop, and will need to be installed locally if you want to re-create these analyses on your own computer. \n",
    "\n",
    "- **EDirect**: a suite of scripts for accessing NCBI sequence and literature data through the E-Utilities API. [More info](https://www.ncbi.nlm.nih.gov/books/NBK179288/)\n"
   ]
  },
  {
   "cell_type": "markdown",
   "id": "4f34d0d9-77b3-461b-aba4-fcefc33982e3",
   "metadata": {},
   "source": [
    "## Our Case Studies"
   ]
  },
  {
   "cell_type": "markdown",
   "id": "dbe1c9a9-13af-4456-bfbc-8b55d4bed0a3",
   "metadata": {},
   "source": [
    "# Objective 1 - Set up a workspace using the command line <a class=\"anchor\" id=\"Objective-1\"></a>"
   ]
  },
  {
   "cell_type": "markdown",
   "id": "7e4e6643-c919-4f7c-8996-bb4454f0489a",
   "metadata": {
    "tags": []
   },
   "source": [
    "## So, what IS the command line? And why do we use it? \n",
    "\n",
    "**End Goal:** A main project directory with appropriately named sub-directories for different types of data (citations/publications, nucleotide, protein, genomes)"
   ]
  },
  {
   "cell_type": "markdown",
   "id": "ee1d0c31-b062-40e1-8bb1-561f43613f2f",
   "metadata": {},
   "source": [
    "## Running Commands: Program Name and Parameters"
   ]
  },
  {
   "cell_type": "markdown",
   "id": "30b07ce2-d727-49f0-bff9-e6e3153dd1c8",
   "metadata": {},
   "source": [
    "**Commands I will demo during this section:**\n",
    "* `pwd`\n",
    "*  `ls` vs. `ls -a` - commands that can be run with or without arguments \n",
    "*  `echo` (uh oh, this is missing an argument! ) \n",
    "* `echo \"this is a message\"` this is better! "
   ]
  },
  {
   "cell_type": "markdown",
   "id": "0841523d-1dd2-4aba-8f50-10c88105169e",
   "metadata": {},
   "source": [
    "## Interacting with Unix directory structure\n",
    "\n",
    "**Need to create custom directory structure diagram labeled with our JupyterHub directory names**"
   ]
  },
  {
   "cell_type": "markdown",
   "id": "c117dce8-6697-4d9d-8ebc-64e5dad5f022",
   "metadata": {},
   "source": [
    "**Commands I will demo:**\n",
    "* You are Here:  `pwd`\n",
    "* What's in a (directory) name/path?\n",
    "* Checking out our surroundings: `ls` for within a directory, compared with `ls .` and `ls ..` \n",
    "* Moving around in our surroundings: `cd` command and its arguments, practicing/predicting what you get if you run `ls` after moving to a different directory.\n",
    "* Creating your own directories to store data: `mkdir`. "
   ]
  },
  {
   "cell_type": "markdown",
   "id": "2611ab8a-08e4-423a-95c8-1242e06053e7",
   "metadata": {
    "tags": []
   },
   "source": [
    "## Interacting with files"
   ]
  },
  {
   "cell_type": "markdown",
   "id": "62661629-45bb-4eab-837a-43b9c234e201",
   "metadata": {},
   "source": [
    "**Commands I will demo during this section:**\n",
    "* `mv` can be used to literally move a file OR rename a file \n",
    "* `cp`\n",
    "* `less`\n",
    "* `head`"
   ]
  },
  {
   "cell_type": "markdown",
   "id": "b1b3cd72-78d5-4b95-989e-ae3ea07020a7",
   "metadata": {
    "tags": []
   },
   "source": [
    "# Objective 2: Use EDirect commands to identify genes associated with AIP and identify suitable animal models for the disease"
   ]
  },
  {
   "cell_type": "markdown",
   "id": "a3002cfe-6600-460a-bf01-0009744f8176",
   "metadata": {},
   "source": [
    "## Introduction to the EDirect suite"
   ]
  },
  {
   "cell_type": "markdown",
   "id": "315de89f-856f-45e8-bbc3-d302e53a76c7",
   "metadata": {
    "tags": []
   },
   "source": [
    "## Using `einfo` to find out about databases\n",
    "\n",
    "The `einfo` command is very useful for learning about available databases, the searchable fields in each database, and links between the various NCBI databases. When run with the `dbs` (databases) flag, `einfo` produces a list of available databases.  "
   ]
  },
  {
   "cell_type": "code",
   "execution_count": null,
   "id": "e4f14d40-9a31-4cca-96e9-b357956b6468",
   "metadata": {
    "tags": []
   },
   "outputs": [],
   "source": [
    "einfo -dbs "
   ]
  },
  {
   "cell_type": "markdown",
   "id": "0a11e515-d760-42b5-a7cb-0d1f6b382148",
   "metadata": {},
   "source": [
    "Okay, that is a long list of databases! Sometimes, we want to store a list like this in a text file so that we can examine it again without running the command again. We can use the `>` symbol to direct the output of the `einfo` command into a text file called `ncbi_dbs.txt` that lives in our current directory. "
   ]
  },
  {
   "cell_type": "code",
   "execution_count": null,
   "id": "cdde710e-bece-4b38-8efd-001b959ce92f",
   "metadata": {
    "tags": []
   },
   "outputs": [],
   "source": [
    "einfo -dbs > ncbi_dbs.txt"
   ]
  },
  {
   "cell_type": "markdown",
   "id": "aba12adf-f22b-499a-baa8-4de73bf99c22",
   "metadata": {},
   "source": [
    "We can go to our files pane (click on folder icon), and double click `ncbi_dbs.txt` to open that list in another tab for future reference! We can look at the list and guess that `pubmed` might be a good option for looking at publications. To check, we can run `einfo` again, this time specifying `pubmed`. "
   ]
  },
  {
   "cell_type": "code",
   "execution_count": null,
   "id": "a14ddfd3-4863-4ecb-a389-8f58c29ce85b",
   "metadata": {
    "tags": []
   },
   "outputs": [],
   "source": [
    "einfo -db pubmed"
   ]
  },
  {
   "cell_type": "markdown",
   "id": "6bdf203d-65db-4c2d-9c27-f193e0f2b186",
   "metadata": {},
   "source": [
    "This output (unless you are already fluent in XML) is a little bit hard to read. Lets add the `-fields` flag to get a human-readable list of the searchable fields in `pubmed`, and also direct this list to a file. This will come in handy soon as we refine our searches. Take a look! "
   ]
  },
  {
   "cell_type": "code",
   "execution_count": null,
   "id": "9aa67c15-51db-43e8-879e-e73105425a23",
   "metadata": {
    "tags": []
   },
   "outputs": [],
   "source": [
    "einfo -db pubmed -fields > pubmed_fields.txt"
   ]
  },
  {
   "cell_type": "code",
   "execution_count": null,
   "id": "44dc4854-070c-4143-8b9d-cbca4c855f3b",
   "metadata": {
    "tags": []
   },
   "outputs": [],
   "source": [
    "# Briefly compare with the fields in a sequence database, then clear the output\n",
    "einfo -db nuccore -fields"
   ]
  },
  {
   "cell_type": "markdown",
   "id": "7c2b3cd9-f833-4b72-8148-4d68f72400c7",
   "metadata": {},
   "source": [
    "## Using `esearch` and `efetch` to find relevant results in databases. "
   ]
  },
  {
   "cell_type": "markdown",
   "id": "374cf5b3-6c39-4c5b-8ac0-b35d1e8e46f5",
   "metadata": {},
   "source": [
    "As the name might suggest, we have `esearch` allows us to perform an Entrez search of a database using a query. For our purposes, a basic `esearch` command will have a database specified using `-db` (remember to look at our list!) and something that we are searching for inside of that database, specified using `-query`. "
   ]
  },
  {
   "cell_type": "code",
   "execution_count": null,
   "id": "600cc067-f468-4549-a9f6-2d7db9f9aedc",
   "metadata": {
    "tags": []
   },
   "outputs": [],
   "source": [
    "# Demonstrate that running `esearch` without specifying a value for one or both of these will return errors\n",
    "esearch -db pubmed\n",
    "esearch -query \"aip\" "
   ]
  },
  {
   "cell_type": "markdown",
   "id": "ab181089-cf17-497c-89b7-f6f5c860f5fa",
   "metadata": {},
   "source": [
    "First, lets try the full name of the disease as a query. "
   ]
  },
  {
   "cell_type": "code",
   "execution_count": null,
   "id": "5c059b0f-6614-448a-a6bd-c672165b20f0",
   "metadata": {},
   "outputs": [],
   "source": [
    "# Looking for a disease of interest to us...  \n",
    "esearch -db pubmed -query \"acute intermittent porphyria\""
   ]
  },
  {
   "cell_type": "markdown",
   "id": "535fd253-6b92-43a6-aa89-ba8f743a8545",
   "metadata": {},
   "source": [
    "This results structure tells us a number of useful things, and also stores this information in way that that can feed into downstream programs. First, it reminds us what database we just searched in, and stores this info for use in other programs. We also may want to look at the `Count` value, which counts the number of records returned by the search. \n",
    "\n",
    "As March 2023, there are **2353 results**, too many papers for us to read, and probably too many for us to even download. Note also that this the `esearch` step in and of itself does NOT give us any info about the contents of the results. \n",
    "\n",
    "### Refining our search using database fields\n",
    "\n",
    "If we want to get a more manageable number of results, one way to do that is to modify the query with an applicable **field** from the PubMed database. Take a look back at our `pubmed_fields.txt` file to get an idea of their names and abbreviations. **Let's modify our query to look only at papers published in 2020:** "
   ]
  },
  {
   "cell_type": "code",
   "execution_count": null,
   "id": "76e5dffb-d1f0-4a6e-a723-74777b6091a0",
   "metadata": {
    "tags": []
   },
   "outputs": [],
   "source": [
    "esearch -db pubmed -query \"acute intermittent porphyria AND 2020 [PDAT]\""
   ]
  },
  {
   "cell_type": "markdown",
   "id": "5020e74d-0c6e-4839-abca-8dc47a62a689",
   "metadata": {},
   "source": [
    "This time we see many fewer results! What did we modify in our query? \n",
    "* `AND`: This tells **esearch** we are qualifying the first half of the query, which is our disease name, with another condition. In this case, a publication year. \n",
    "* `2020`: Our chosen value for specifying publication date \n",
    "* `[PDAT]`: This tells **esearch** which PubMed database field `2020` should be searched in for. Note that this term matches exactly what we got from `einfo`, and is placed inside of brackets. \n",
    "\n",
    "You can apply this same logic to choosing a specific journal. Let's assume that since we are interested in the genetic basis of AIP, the journal **Genes** might be a good option: "
   ]
  },
  {
   "cell_type": "code",
   "execution_count": null,
   "id": "f12ead9a-5798-4c86-9ea7-7401859af5db",
   "metadata": {},
   "outputs": [],
   "source": [
    "esearch -db pubmed -query \"acute intermittent porphyria AND Genes [JOUR]\""
   ]
  },
  {
   "cell_type": "markdown",
   "id": "7655f58c-d01e-4d75-a5a7-9a354bbbc5d8",
   "metadata": {
    "tags": []
   },
   "source": [
    "As of March 2023, this returned just a single result, much more manageable. We can actually get the same result if we specify BOTH a journal and year: "
   ]
  },
  {
   "cell_type": "code",
   "execution_count": null,
   "id": "f0510203-52cd-44ac-bf40-6dac33073f03",
   "metadata": {
    "tags": []
   },
   "outputs": [],
   "source": [
    "esearch -db pubmed -query \"acute intermittent porphyria AND Genes [JOUR] AND 2020 [PDAT]\""
   ]
  },
  {
   "cell_type": "markdown",
   "id": "a447cd5b-66c3-4c5d-a016-e48894287efd",
   "metadata": {
    "tags": []
   },
   "source": [
    "### Sending `esearch` results to `efetch`\n",
    "\n",
    "Now that we have narrowed our search down to what looks like just one publication, we can retrieve more information about it. We do so by adding in a second command, `efetch` that can receive that result structure directly from `esearch` and return information about that reuslt in a format of our choice. "
   ]
  },
  {
   "cell_type": "code",
   "execution_count": null,
   "id": "9dd1c9f2-00fe-49be-88af-96e41550d444",
   "metadata": {
    "tags": []
   },
   "outputs": [],
   "source": [
    "esearch -db pubmed -query \"acute intermittent porphyria AND Genes [JOUR]\" | efetch -format abstract"
   ]
  },
  {
   "cell_type": "code",
   "execution_count": null,
   "id": "72487d3a-92e2-46b8-b010-c44b7b3aac45",
   "metadata": {
    "tags": []
   },
   "outputs": [],
   "source": [
    "# You can also direct this to a file to save it for later \n",
    "esearch -db pubmed -query \"acute intermittent porphyria AND Genes [JOUR]\" | efetch -format abstract > AIP_genes.txt"
   ]
  },
  {
   "cell_type": "code",
   "execution_count": null,
   "id": "737a4536-e29f-4bc8-a4d7-94984705972e",
   "metadata": {
    "tags": []
   },
   "outputs": [],
   "source": [
    "head AIP_genes.txt\n",
    "# mv AIP_genes.txt PubMed/"
   ]
  },
  {
   "cell_type": "code",
   "execution_count": null,
   "id": "6db62b56-f749-434b-b080-7f62d553eb3f",
   "metadata": {
    "tags": []
   },
   "outputs": [],
   "source": [
    "#Medline format, ready for your citation manager\n",
    "esearch -db pubmed -query \"acute intermittent porphyria AND Genes [JOUR]\" | efetch -format medline"
   ]
  },
  {
   "cell_type": "code",
   "execution_count": null,
   "id": "0bfdcba8-080b-4a33-8c39-4ad1329044c9",
   "metadata": {
    "tags": []
   },
   "outputs": [],
   "source": [
    "# And finally, if you just want PubMed ID to pipe into something else\n",
    "esearch -db pubmed -query \"acute intermittent porphyria AND Genes [JOUR]\" | efetch -format uilist"
   ]
  },
  {
   "cell_type": "code",
   "execution_count": null,
   "id": "dd648616-9aab-457f-b7e4-cdab80438abb",
   "metadata": {
    "tags": []
   },
   "outputs": [],
   "source": [
    "esearch -db pubmed -query \"acute intermittent porphyria AND Genes [JOUR]\" | elink -target gene"
   ]
  },
  {
   "cell_type": "markdown",
   "id": "8e8abeec-a8d2-499b-bd2d-09974b8327bd",
   "metadata": {},
   "source": [
    "If you want to learn more about the possible formats associated with each NCBI database, here is a link: https://www.ncbi.nlm.nih.gov/books/NBK25499/table/chapter4.T._valid_values_of__retmode_and/\n",
    "\n",
    "### Using the NCBI `Gene` Database\n",
    "\n",
    "By reading over just this one abstract, we learn that this form of porphyria is related to decreased activity of hepatic hydroxymethylbilane synthase (HMBS), the third enzyme in the heme biosynthetic pathway. Now we know what our target gene is, and can search for it in any number of NCBI databases. "
   ]
  },
  {
   "cell_type": "code",
   "execution_count": null,
   "id": "7640b85f-bd05-4670-8dda-d3a746a45e20",
   "metadata": {
    "tags": []
   },
   "outputs": [],
   "source": [
    "# esearch -db pubmed -query \"acute intermittent porphyria\" | elink -target gene "
   ]
  },
  {
   "cell_type": "code",
   "execution_count": null,
   "id": "f93ebbbd-01ec-4e18-9c01-bd2e5b27ba41",
   "metadata": {
    "tags": []
   },
   "outputs": [],
   "source": [
    "# search -db pubmed -query \"acute intermittent porphyria AND Genes [JOUR]\" | elink -target gene | efetch"
   ]
  },
  {
   "cell_type": "code",
   "execution_count": null,
   "id": "eeddbc86-e089-4d32-a094-74073f84d199",
   "metadata": {},
   "outputs": [],
   "source": [
    "# Seems obvious to see what \"Gene\" has to say about a gene...\n",
    "einfo -db gene -fields"
   ]
  },
  {
   "cell_type": "code",
   "execution_count": null,
   "id": "389cf4b2-d847-46cd-be21-776e9719ab6b",
   "metadata": {
    "tags": []
   },
   "outputs": [],
   "source": [
    "esearch -db gene -query \"HMBS\" "
   ]
  },
  {
   "cell_type": "code",
   "execution_count": null,
   "id": "6a10af29-19fa-4b7d-9490-d9df08f90bab",
   "metadata": {
    "tags": []
   },
   "outputs": [],
   "source": [
    "#Specify that HMBS is actually the official gene symbol, not just a set of characters to search for \n",
    "esearch -db gene -query \"HMBS[sym]\""
   ]
  },
  {
   "cell_type": "code",
   "execution_count": null,
   "id": "4415a251-8563-48dd-af95-fbac717e4a44",
   "metadata": {
    "tags": []
   },
   "outputs": [],
   "source": [
    "esearch -db gene -query \"HMBS[sym]\" | efetch -format gene_table > hmbs_gene_table_sym.txt"
   ]
  },
  {
   "cell_type": "code",
   "execution_count": null,
   "id": "7a8d7214-c9e3-4e12-a38a-cc58002302b3",
   "metadata": {
    "tags": []
   },
   "outputs": [],
   "source": [
    "# Still 408 results, but this hopefully filters out more irrelevant entries. \n",
    "head hmbs_gene_table_sym.txt"
   ]
  },
  {
   "cell_type": "code",
   "execution_count": null,
   "id": "d8cfd1d5-c3dc-4106-a8bd-cd669156bc58",
   "metadata": {
    "tags": []
   },
   "outputs": [],
   "source": [
    "# Finding the right genes by starting with the disease\n",
    "\n",
    "esearch -db gene -query \"acute intermittent porphyria\""
   ]
  },
  {
   "cell_type": "code",
   "execution_count": null,
   "id": "980f81e0-058d-4262-908c-17615736cb39",
   "metadata": {
    "tags": []
   },
   "outputs": [],
   "source": [
    "esearch -db gene -query \"acute intermittent porphyria\" | efetch -format gene_table | head -30"
   ]
  },
  {
   "cell_type": "code",
   "execution_count": null,
   "id": "98702f30-e15a-4ce0-a314-18fb532204f8",
   "metadata": {
    "tags": []
   },
   "outputs": [],
   "source": [
    "esearch -db gene -query \"3145[UID]\" | efetch -format gene_table | head -10"
   ]
  },
  {
   "cell_type": "markdown",
   "id": "1d2b23fb-4dcd-4053-b27e-fba89d646ce5",
   "metadata": {
    "tags": []
   },
   "source": [
    "## Searching a sequence database\n",
    "\n",
    "We can take back a look at "
   ]
  },
  {
   "cell_type": "code",
   "execution_count": null,
   "id": "f58b365c-c0bd-4f5e-b0f9-88c059af1119",
   "metadata": {
    "tags": []
   },
   "outputs": [],
   "source": []
  },
  {
   "cell_type": "markdown",
   "id": "9cbbf249-de1e-4594-8de7-21b1b78a33aa",
   "metadata": {},
   "source": [
    "# Objective 3: Use `elink` to more exhaustive search for genes and proteins "
   ]
  },
  {
   "cell_type": "code",
   "execution_count": null,
   "id": "0d281452-8054-46af-97d3-327e50383346",
   "metadata": {
    "tags": []
   },
   "outputs": [],
   "source": [
    "esearch -db gene -query \"3145[UID]\""
   ]
  },
  {
   "cell_type": "code",
   "execution_count": null,
   "id": "a833dd90-5634-4074-a8ec-4654bd1fe142",
   "metadata": {
    "tags": []
   },
   "outputs": [],
   "source": [
    "esearch -db gene -query \"3145[UID]\" | efetch -format gene_table"
   ]
  },
  {
   "cell_type": "markdown",
   "id": "ebec75d8-f15f-4673-80d7-d18dcdc31603",
   "metadata": {},
   "source": [
    "**We can learn a lot about HMBS from this output:**  \n",
    "\n",
    "HMBS hydroxymethylbilane synthase`[Homo sapiens]`\n",
    "\n",
    "Gene ID: 3145, updated on 5-Mar-2023\n",
    "\n",
    "Reference GRCh38.p14 Primary Assembly NC_000011.10  from: `119084881 to: 119093549`\n",
    "\n",
    "mRNA transcript variant X1 XM_005271531.2, 14 exons,  total annotated spliced exon length: 1596 \n",
    "\n",
    "protein isoform X1 XP_005271588.1, 13 coding  exons,  annotated AA length: 344"
   ]
  },
  {
   "cell_type": "code",
   "execution_count": null,
   "id": "3fcf5585-4335-453f-a01a-4e3c8cbd9459",
   "metadata": {
    "tags": []
   },
   "outputs": [],
   "source": [
    "einfo -db gene -links"
   ]
  },
  {
   "cell_type": "code",
   "execution_count": null,
   "id": "7756a0ef-e875-4f55-8a30-ad6ca92317be",
   "metadata": {
    "tags": []
   },
   "outputs": [],
   "source": [
    "esearch -db gene -query \"HMBS[sym]\" | elink -target taxonomy"
   ]
  },
  {
   "cell_type": "code",
   "execution_count": null,
   "id": "f64d95b1-1200-4012-b00e-5d026b076a4f",
   "metadata": {},
   "outputs": [],
   "source": []
  }
 ],
 "metadata": {
  "kernelspec": {
   "display_name": "Bash",
   "language": "bash",
   "name": "bash"
  },
  "language_info": {
   "codemirror_mode": "shell",
   "file_extension": ".sh",
   "mimetype": "text/x-sh",
   "name": "bash"
  },
  "toc-autonumbering": false,
  "toc-showcode": false
 },
 "nbformat": 4,
 "nbformat_minor": 5
}
